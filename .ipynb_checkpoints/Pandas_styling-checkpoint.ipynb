{
 "cells": [
  {
   "cell_type": "markdown",
   "metadata": {},
   "source": [
    "# Styling Data Frames with pandas\n",
    "\n",
    "Styling in pandas can make your data analysis experience a lot more pleasant. In this notebook, I will be showing you multiple different styling options for data frames within the pandas library. Checkout the blog I wrote about this subject on my [Medium](https://medium.com/@paulaleksis/styling-data-frames-using-pandas-fb066c899f4c).\n",
    "\n",
    "![Pandas style](./pandas_style.jpg)\n",
    "Photo by [Erik Mclean](https://unsplash.com/@introspectivedsgn?utm_source=unsplash&utm_medium=referral&utm_content=creditCopyText)"
   ]
  },
  {
   "cell_type": "markdown",
   "metadata": {},
   "source": [
    "## Library Imports:"
   ]
  },
  {
   "cell_type": "code",
   "execution_count": 28,
   "metadata": {},
   "outputs": [],
   "source": [
    "# Data manipulation libraries & aliases\n",
    "import pandas as pd\n",
    "import numpy as np\n",
    "import seaborn as sns # for the color palette usages"
   ]
  },
  {
   "cell_type": "markdown",
   "metadata": {},
   "source": [
    "## Load some data\n",
    "The data is provided within this repo and web scrapped using my custom program."
   ]
  },
  {
   "cell_type": "code",
   "execution_count": 25,
   "metadata": {},
   "outputs": [],
   "source": [
    "df = pd.read_csv(\"cars.csv\", index_col=0 )"
   ]
  },
  {
   "cell_type": "code",
   "execution_count": 26,
   "metadata": {},
   "outputs": [
    {
     "data": {
      "text/html": [
       "<div>\n",
       "<style scoped>\n",
       "    .dataframe tbody tr th:only-of-type {\n",
       "        vertical-align: middle;\n",
       "    }\n",
       "\n",
       "    .dataframe tbody tr th {\n",
       "        vertical-align: top;\n",
       "    }\n",
       "\n",
       "    .dataframe thead th {\n",
       "        text-align: right;\n",
       "    }\n",
       "</style>\n",
       "<table border=\"1\" class=\"dataframe\">\n",
       "  <thead>\n",
       "    <tr style=\"text-align: right;\">\n",
       "      <th></th>\n",
       "      <th>price(£)</th>\n",
       "      <th>mileage(mi)</th>\n",
       "      <th>door_count</th>\n",
       "      <th>body_style</th>\n",
       "      <th>engine_size(cc)</th>\n",
       "      <th>transmission</th>\n",
       "      <th>year</th>\n",
       "      <th>brand</th>\n",
       "      <th>model</th>\n",
       "    </tr>\n",
       "  </thead>\n",
       "  <tbody>\n",
       "    <tr>\n",
       "      <th>0</th>\n",
       "      <td>14950</td>\n",
       "      <td>99856.0</td>\n",
       "      <td>4.0</td>\n",
       "      <td>Saloon</td>\n",
       "      <td>4163.0</td>\n",
       "      <td>Manual</td>\n",
       "      <td>2007.0</td>\n",
       "      <td>Audi</td>\n",
       "      <td>RS4</td>\n",
       "    </tr>\n",
       "    <tr>\n",
       "      <th>1</th>\n",
       "      <td>13995</td>\n",
       "      <td>58000.0</td>\n",
       "      <td>4.0</td>\n",
       "      <td>Saloon</td>\n",
       "      <td>1968.0</td>\n",
       "      <td>Automatic</td>\n",
       "      <td>2015.0</td>\n",
       "      <td>Audi</td>\n",
       "      <td>A6</td>\n",
       "    </tr>\n",
       "    <tr>\n",
       "      <th>2</th>\n",
       "      <td>10950</td>\n",
       "      <td>49780.0</td>\n",
       "      <td>4.0</td>\n",
       "      <td>Saloon</td>\n",
       "      <td>1968.0</td>\n",
       "      <td>Automatic</td>\n",
       "      <td>2014.0</td>\n",
       "      <td>Audi</td>\n",
       "      <td>A6</td>\n",
       "    </tr>\n",
       "    <tr>\n",
       "      <th>3</th>\n",
       "      <td>12500</td>\n",
       "      <td>38007.0</td>\n",
       "      <td>4.0</td>\n",
       "      <td>Saloon</td>\n",
       "      <td>1968.0</td>\n",
       "      <td>Manual</td>\n",
       "      <td>2012.0</td>\n",
       "      <td>Audi</td>\n",
       "      <td>A4</td>\n",
       "    </tr>\n",
       "    <tr>\n",
       "      <th>4</th>\n",
       "      <td>21100</td>\n",
       "      <td>10395.0</td>\n",
       "      <td>4.0</td>\n",
       "      <td>Saloon</td>\n",
       "      <td>1498.0</td>\n",
       "      <td>Manual</td>\n",
       "      <td>2018.0</td>\n",
       "      <td>Audi</td>\n",
       "      <td>A3</td>\n",
       "    </tr>\n",
       "  </tbody>\n",
       "</table>\n",
       "</div>"
      ],
      "text/plain": [
       "   price(£)  mileage(mi)  door_count body_style  engine_size(cc) transmission    year brand model\n",
       "0     14950      99856.0         4.0     Saloon           4163.0       Manual  2007.0  Audi   RS4\n",
       "1     13995      58000.0         4.0     Saloon           1968.0    Automatic  2015.0  Audi    A6\n",
       "2     10950      49780.0         4.0     Saloon           1968.0    Automatic  2014.0  Audi    A6\n",
       "3     12500      38007.0         4.0     Saloon           1968.0       Manual  2012.0  Audi    A4\n",
       "4     21100      10395.0         4.0     Saloon           1498.0       Manual  2018.0  Audi    A3"
      ]
     },
     "execution_count": 26,
     "metadata": {},
     "output_type": "execute_result"
    }
   ],
   "source": [
    "df.head()"
   ]
  },
  {
   "cell_type": "markdown",
   "metadata": {},
   "source": [
    "## What can we do?\n",
    "\n",
    "With pandas styling there are many options to begin you might want to know what color options you have"
   ]
  }
 ],
 "metadata": {
  "kernelspec": {
   "display_name": "Python 3.7.4 64-bit ('base': conda)",
   "language": "python",
   "name": "python37464bitbaseconda46a7e23ef9464d029413b43f97b86682"
  },
  "language_info": {
   "codemirror_mode": {
    "name": "ipython",
    "version": 3
   },
   "file_extension": ".py",
   "mimetype": "text/x-python",
   "name": "python",
   "nbconvert_exporter": "python",
   "pygments_lexer": "ipython3",
   "version": "3.7.4"
  }
 },
 "nbformat": 4,
 "nbformat_minor": 4
}
