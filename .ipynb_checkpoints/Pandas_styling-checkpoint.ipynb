{
 "cells": [
  {
   "cell_type": "markdown",
   "metadata": {},
   "source": [
    "# Styling Data Frames with pandas\n",
    "\n",
    "Styling in pandas can make your data analysis experience a lot more pleasant. In this notebook, I will be showing you multiple different styling options for data frames within the pandas library. Checkout the blog I wrote about this subject on my [Medium](https://medium.com/@paulaleksis/styling-data-frames-using-pandas-fb066c899f4c).\n",
    "\n",
    "![Pandas style](./pandas_style.jpg)\n",
    "Photo by [Erik Mclean](https://unsplash.com/@introspectivedsgn?utm_source=unsplash&utm_medium=referral&utm_content=creditCopyText)"
   ]
  },
  {
   "cell_type": "code",
   "execution_count": null,
   "metadata": {},
   "outputs": [],
   "source": []
  }
 ],
 "metadata": {
  "kernelspec": {
   "display_name": "Python 3.7.4 64-bit ('base': conda)",
   "language": "python",
   "name": "python37464bitbaseconda46a7e23ef9464d029413b43f97b86682"
  },
  "language_info": {
   "codemirror_mode": {
    "name": "ipython",
    "version": 3
   },
   "file_extension": ".py",
   "mimetype": "text/x-python",
   "name": "python",
   "nbconvert_exporter": "python",
   "pygments_lexer": "ipython3",
   "version": "3.7.4"
  }
 },
 "nbformat": 4,
 "nbformat_minor": 4
}
