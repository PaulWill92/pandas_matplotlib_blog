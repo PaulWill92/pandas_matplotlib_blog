{
 "cells": [
  {
   "cell_type": "markdown",
   "metadata": {},
   "source": [
    "# How to improve your Matplotlib visualizations and Pandas dataframes by Paul Aleksis\n",
    "\n",
    "In this notebook I will be showing how to utilize matplotlib classes and methods to create customized data visualizations.\n",
    "\n",
    "The blog for this notebook can be found on [medium](https://medium.com/@paulaleksis/how-to-improve-your-matplotlib-visualizations-and-pandas-dataframes-89e4359aba46)"
   ]
  },
  {
   "cell_type": "markdown",
   "metadata": {},
   "source": [
    "### Imports:"
   ]
  },
  {
   "cell_type": "code",
   "execution_count": 4,
   "metadata": {},
   "outputs": [],
   "source": [
    "# my webcrawler that scrapes live car data from a autovillage website\n",
    "from paulsweb.webcrawler import autovillage_crawler\n",
    "\n",
    "# visual library imports\n",
    "import matplotlib.pyplot as plt\n",
    "import seaborn as sns\n",
    "import pandas as pd"
   ]
  },
  {
   "cell_type": "markdown",
   "metadata": {},
   "source": [
    " "
   ]
  }
 ],
 "metadata": {
  "kernelspec": {
   "display_name": "Python 3.7.4 64-bit ('base': conda)",
   "language": "python",
   "name": "python37464bitbaseconda46a7e23ef9464d029413b43f97b86682"
  },
  "language_info": {
   "codemirror_mode": {
    "name": "ipython",
    "version": 3
   },
   "file_extension": ".py",
   "mimetype": "text/x-python",
   "name": "python",
   "nbconvert_exporter": "python",
   "pygments_lexer": "ipython3",
   "version": "3.7.4"
  }
 },
 "nbformat": 4,
 "nbformat_minor": 4
}
