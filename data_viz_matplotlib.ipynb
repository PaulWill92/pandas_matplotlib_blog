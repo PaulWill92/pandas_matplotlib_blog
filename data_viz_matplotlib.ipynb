{
 "cells": [
  {
   "cell_type": "markdown",
   "metadata": {},
   "source": [
    "# How to improve your Matplotlib visualizations and Pandas dataframes by Paul Aleksis\n",
    "\n",
    "In this notebook I will be showing how to utilize matplotlib classes and methods to create customized data visualizations.\n",
    "\n",
    "The blog for this notebook can be found on [medium](https://medium.com/@paulaleksis/how-to-improve-your-matplotlib-visualizations-and-pandas-dataframes-89e4359aba46)"
   ]
  },
  {
   "cell_type": "markdown",
   "metadata": {},
   "source": [
    "### Imports:"
   ]
  },
  {
   "cell_type": "code",
   "execution_count": 4,
   "metadata": {},
   "outputs": [],
   "source": [
    "# my webcrawler that scrapes live car data from a autovillage website\n",
    "from paulsweb.webcrawler import autovillage_crawler\n",
    "\n",
    "# visual library imports\n",
    "import matplotlib.pyplot as plt\n",
    "import seaborn as sns\n",
    "import pandas as pd"
   ]
  },
  {
   "cell_type": "markdown",
   "metadata": {},
   "source": [
    "## Load Data:"
   ]
  },
  {
   "cell_type": "code",
   "execution_count": 5,
   "metadata": {},
   "outputs": [
    {
     "name": "stdout",
     "output_type": "stream",
     "text": [
      "\n",
      "     Auto Village Webscraper! - Version 1.1\n",
      "    \n",
      "     A car web scraping program created by Paul Aleksis Williams.\n",
      "    \n",
      "     Program description:\n",
      "    \n",
      "    \n",
      "     This programs scrapes cars listed on the autovillage.co.uk website, cleans the\n",
      "     entries, drops duplicated entries, drops entries with missing values, and\n",
      "     returns a data frame that contains 1 target variable and 8 features.\n",
      "    \n",
      "    \n",
      "     Program inputs:\n",
      "    \n",
      "     1. Input a car manufacturer name or leave blank for all manufacturers.\n",
      "        please use a hyphen for names with spaces (mercedes-benz)\n",
      "    \n",
      "     2. Input the body style of cars you want to scrape ot leave empty for all.\n",
      "       options: saloon, hatchback, 4x4, estate, coupe, convertible, mpv. For\n",
      "       multiple styles seperate input with a comma.\n",
      "    \n",
      "     3. Input the number of pages to scrape there are 10 cars per page. If left\n",
      "       blank, it will scrape 1 page per body style.\n",
      "    \n",
      "     4. Input a name for the file to save it as a csv in the current directory.\n",
      "       If left blank, It will not save but you can set it as a variable to view\n",
      "       the table.\n",
      "       \n",
      "       \n",
      "     Program output:\n",
      "    \n",
      "    \n",
      "     The function returns a cleaned data frame of cars scraped from autovillage.co.uk\n",
      "     dropping all the missing values within the websites interface, and removing any\n",
      "     duplicated cars.\n",
      "    \n",
      "    \n",
      "     Program save feature:\n",
      "    \n",
      "    \n",
      "     You can leave the save input empty and the file will not be saved.\n",
      "    \n",
      "     You can set a variable for this function in jupyter notebooks and manipulate\n",
      "     the created pandas object as normal.\n",
      "    \n",
      "    \n",
      "    \n",
      "    \n",
      "\n",
      "\n",
      "Inputs:\n",
      "------------------------------------------------------------------------------------------------------\n",
      "Enter a car brand you are interested in (leave blank for all):\n"
     ]
    },
    {
     "name": "stdin",
     "output_type": "stream",
     "text": [
      ">  audi, bmw, mercedes-benz, ferrari, alfa-romero, ford, honda\n"
     ]
    },
    {
     "name": "stdout",
     "output_type": "stream",
     "text": [
      "Enter a body style (or leave blank for all): \n"
     ]
    },
    {
     "name": "stdin",
     "output_type": "stream",
     "text": [
      ">  \n"
     ]
    },
    {
     "name": "stdout",
     "output_type": "stream",
     "text": [
      "Enter the amount of pages you want to scrape (leave blank for 1)\n"
     ]
    },
    {
     "name": "stdin",
     "output_type": "stream",
     "text": [
      ">  5\n"
     ]
    },
    {
     "name": "stderr",
     "output_type": "stream",
     "text": [
      "  0%|          | 0/5 [00:00<?, ?it/s]"
     ]
    },
    {
     "name": "stdout",
     "output_type": "stream",
     "text": [
      "\n",
      "\n",
      "ETA of process:\n",
      "------------------------------------------------------------------------------------------------------\n",
      "7 cycles of 5 pages:\n",
      "Expecting: ~ 2450 cars\n"
     ]
    },
    {
     "name": "stderr",
     "output_type": "stream",
     "text": [
      "100%|██████████| 5/5 [00:15<00:00,  3.16s/it]\n",
      "100%|██████████| 5/5 [00:20<00:00,  4.03s/it]\n",
      "100%|██████████| 5/5 [00:19<00:00,  3.86s/it]\n",
      "100%|██████████| 5/5 [00:18<00:00,  3.69s/it]\n",
      "100%|██████████| 5/5 [00:20<00:00,  4.09s/it]\n",
      "100%|██████████| 5/5 [00:16<00:00,  3.35s/it]\n",
      "100%|██████████| 5/5 [00:20<00:00,  4.20s/it]\n"
     ]
    },
    {
     "name": "stdout",
     "output_type": "stream",
     "text": [
      "\n",
      "\n",
      "Output:\n",
      "------------------------------------------------------------------------------------------------------\n",
      "Done! you scraped:  1592 cars!\n",
      "858 cars were dropped due to poor format\n",
      "Name to save file as (leave blank to not save): \n"
     ]
    },
    {
     "name": "stdin",
     "output_type": "stream",
     "text": [
      ">  cars\n"
     ]
    },
    {
     "name": "stdout",
     "output_type": "stream",
     "text": [
      "------------------------------------------------------------------------------------------------------\n",
      "File saved as cars.csv in the current directory!\n"
     ]
    }
   ],
   "source": [
    "df = autovillage_crawler()"
   ]
  },
  {
   "cell_type": "markdown",
   "metadata": {},
   "source": [
    "I stored the scraped car data within the repo as `cars.csv` so that you can access it and reproduce anything seen in this notebook."
   ]
  },
  {
   "cell_type": "code",
   "execution_count": 6,
   "metadata": {},
   "outputs": [
    {
     "data": {
      "text/html": [
       "<div>\n",
       "<style scoped>\n",
       "    .dataframe tbody tr th:only-of-type {\n",
       "        vertical-align: middle;\n",
       "    }\n",
       "\n",
       "    .dataframe tbody tr th {\n",
       "        vertical-align: top;\n",
       "    }\n",
       "\n",
       "    .dataframe thead th {\n",
       "        text-align: right;\n",
       "    }\n",
       "</style>\n",
       "<table border=\"1\" class=\"dataframe\">\n",
       "  <thead>\n",
       "    <tr style=\"text-align: right;\">\n",
       "      <th></th>\n",
       "      <th>price(£)</th>\n",
       "      <th>mileage(mi)</th>\n",
       "      <th>door_count</th>\n",
       "      <th>body_style</th>\n",
       "      <th>engine_size(cc)</th>\n",
       "      <th>transmission</th>\n",
       "      <th>year</th>\n",
       "      <th>brand</th>\n",
       "      <th>model</th>\n",
       "    </tr>\n",
       "  </thead>\n",
       "  <tbody>\n",
       "    <tr>\n",
       "      <th>0</th>\n",
       "      <td>14950</td>\n",
       "      <td>99856.0</td>\n",
       "      <td>4.0</td>\n",
       "      <td>Saloon</td>\n",
       "      <td>4163.0</td>\n",
       "      <td>Manual</td>\n",
       "      <td>2007.0</td>\n",
       "      <td>Audi</td>\n",
       "      <td>RS4</td>\n",
       "    </tr>\n",
       "    <tr>\n",
       "      <th>1</th>\n",
       "      <td>13995</td>\n",
       "      <td>58000.0</td>\n",
       "      <td>4.0</td>\n",
       "      <td>Saloon</td>\n",
       "      <td>1968.0</td>\n",
       "      <td>Automatic</td>\n",
       "      <td>2015.0</td>\n",
       "      <td>Audi</td>\n",
       "      <td>A6</td>\n",
       "    </tr>\n",
       "    <tr>\n",
       "      <th>2</th>\n",
       "      <td>10950</td>\n",
       "      <td>49780.0</td>\n",
       "      <td>4.0</td>\n",
       "      <td>Saloon</td>\n",
       "      <td>1968.0</td>\n",
       "      <td>Automatic</td>\n",
       "      <td>2014.0</td>\n",
       "      <td>Audi</td>\n",
       "      <td>A6</td>\n",
       "    </tr>\n",
       "    <tr>\n",
       "      <th>3</th>\n",
       "      <td>12500</td>\n",
       "      <td>38007.0</td>\n",
       "      <td>4.0</td>\n",
       "      <td>Saloon</td>\n",
       "      <td>1968.0</td>\n",
       "      <td>Manual</td>\n",
       "      <td>2012.0</td>\n",
       "      <td>Audi</td>\n",
       "      <td>A4</td>\n",
       "    </tr>\n",
       "    <tr>\n",
       "      <th>4</th>\n",
       "      <td>21100</td>\n",
       "      <td>10395.0</td>\n",
       "      <td>4.0</td>\n",
       "      <td>Saloon</td>\n",
       "      <td>1498.0</td>\n",
       "      <td>Manual</td>\n",
       "      <td>2018.0</td>\n",
       "      <td>Audi</td>\n",
       "      <td>A3</td>\n",
       "    </tr>\n",
       "  </tbody>\n",
       "</table>\n",
       "</div>"
      ],
      "text/plain": [
       "   price(£)  mileage(mi)  door_count body_style  engine_size(cc) transmission    year brand model\n",
       "0     14950      99856.0         4.0     Saloon           4163.0       Manual  2007.0  Audi   RS4\n",
       "1     13995      58000.0         4.0     Saloon           1968.0    Automatic  2015.0  Audi    A6\n",
       "2     10950      49780.0         4.0     Saloon           1968.0    Automatic  2014.0  Audi    A6\n",
       "3     12500      38007.0         4.0     Saloon           1968.0       Manual  2012.0  Audi    A4\n",
       "4     21100      10395.0         4.0     Saloon           1498.0       Manual  2018.0  Audi    A3"
      ]
     },
     "execution_count": 6,
     "metadata": {},
     "output_type": "execute_result"
    }
   ],
   "source": [
    "# inspect to see if the scrape worked\n",
    "df.head()"
   ]
  },
  {
   "cell_type": "markdown",
   "metadata": {},
   "source": [
    "## Create basic matplotlib plot\n",
    "\n",
    "The first thing to do when creating your plot is to set a stage. your figure or `fig` sets the dimensions in which your plot will be and it's background.\n",
    "\n",
    "Using pythons unpacking, we pass 2 variables for the `subplots()` method."
   ]
  },
  {
   "cell_type": "code",
   "execution_count": 8,
   "metadata": {},
   "outputs": [
    {
     "data": {
      "image/png": "[encoded data removed]",
      "text/plain": [
       "<Figure size 432x288 with 1 Axes>"
      ]
     },
     "metadata": {
      "needs_background": "light"
     },
     "output_type": "display_data"
    }
   ],
   "source": [
    "# figure and axes\n",
    "fig, ax = plt.subplots()"
   ]
  },
  {
   "cell_type": "code",
   "execution_count": 9,
   "metadata": {},
   "outputs": [
    {
     "data": {
      "image/png": "[encoded data removed]",
      "text/plain": [
       "<Figure size 432x288 with 1 Axes>"
      ]
     },
     "execution_count": 9,
     "metadata": {},
     "output_type": "execute_result"
    }
   ],
   "source": [
    "# this is what the variable fig looks like\n",
    "fig"
   ]
  },
  {
   "cell_type": "code",
   "execution_count": 10,
   "metadata": {},
   "outputs": [
    {
     "data": {
      "text/plain": [
       "<matplotlib.axes._subplots.AxesSubplot at 0x1442b1a50>"
      ]
     },
     "execution_count": 10,
     "metadata": {},
     "output_type": "execute_result"
    }
   ],
   "source": [
    "# this is what the variable axes looks lik\n",
    "ax"
   ]
  },
  {
   "cell_type": "code",
   "execution_count": null,
   "metadata": {},
   "outputs": [],
   "source": []
  }
 ],
 "metadata": {
  "kernelspec": {
   "display_name": "Python 3.7.4 64-bit ('base': conda)",
   "language": "python",
   "name": "python37464bitbaseconda46a7e23ef9464d029413b43f97b86682"
  },
  "language_info": {
   "codemirror_mode": {
    "name": "ipython",
    "version": 3
   },
   "file_extension": ".py",
   "mimetype": "text/x-python",
   "name": "python",
   "nbconvert_exporter": "python",
   "pygments_lexer": "ipython3",
   "version": "3.7.4"
  }
 },
 "nbformat": 4,
 "nbformat_minor": 4
}
